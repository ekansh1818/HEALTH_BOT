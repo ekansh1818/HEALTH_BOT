{
 "cells": [
  {
   "cell_type": "code",
   "execution_count": 1,
   "id": "552efee4",
   "metadata": {},
   "outputs": [],
   "source": [
    "import nltk\n",
    "import random\n",
    "import numpy as np\n",
    "import json\n",
    "import pickle\n",
    "from nltk.stem import WordNetLemmatizer\n",
    "from tensorflow.keras.models import load_model\n",
    "lemmatizer=WordNetLemmatizer()"
   ]
  },
  {
   "cell_type": "code",
   "execution_count": 2,
   "id": "3a61f747",
   "metadata": {},
   "outputs": [],
   "source": [
    "with open('intents.json') as json_file:\n",
    "    intents = json.load(json_file)\n",
    "\n",
    "words=pickle.load(open('words.pkl','rb'))\n",
    "classes=pickle.load(open('classes.pkl','rb'))\n",
    "model=load_model('chatbotmodel.h5')"
   ]
  },
  {
   "cell_type": "code",
   "execution_count": 3,
   "id": "35b04427",
   "metadata": {},
   "outputs": [],
   "source": [
    "def clean_up_sentence(sentence):\n",
    "  sentence_words=nltk.word_tokenize(sentence)\n",
    "  sentence_words=[lemmatizer.lemmatize(word) for word in sentence_words]\n",
    "  return sentence_words"
   ]
  },
  {
   "cell_type": "code",
   "execution_count": 4,
   "id": "834b4abb",
   "metadata": {},
   "outputs": [],
   "source": [
    "def bag_of_words(sentence):\n",
    "  sentence_words=clean_up_sentence(sentence)\n",
    "  bag=[0]*len(words)\n",
    "  for w in sentence_words:\n",
    "    for i,word in enumerate(words):\n",
    "      if word == w:\n",
    "        bag[i]=1\n",
    "  return np.array(bag)\n"
   ]
  },
  {
   "cell_type": "code",
   "execution_count": 5,
   "id": "484fc17a",
   "metadata": {},
   "outputs": [],
   "source": [
    "def predict_class(sentence):\n",
    "  bow=bag_of_words(sentence)\n",
    "  res=model.predict(np.array([bow]))[0]\n",
    "  ERROR_THRESHOLD=0.25\n",
    "  results=[[i,r] for i,r in enumerate(res) if r> ERROR_THRESHOLD]\n",
    "\n",
    "  results.sort(key=lambda x:x[1],reverse=True)\n",
    "  return_list=[]\n",
    "  for r in results:\n",
    "    return_list.append({'intent': classes[r[0]],'probability':str(r[1])})\n",
    "  return return_list"
   ]
  },
  {
   "cell_type": "code",
   "execution_count": 6,
   "id": "6feb54fe",
   "metadata": {},
   "outputs": [],
   "source": [
    "def get_response(intents_list,intents_json):\n",
    "  tag=intents_list[0]['intent']\n",
    "  list_of_intents=intents_json['intents']\n",
    "  for i in list_of_intents:\n",
    "    if i['tag']==tag:\n",
    "      result=random.choice(i['responses'])\n",
    "      break\n",
    "  return result\n"
   ]
  },
  {
   "cell_type": "code",
   "execution_count": 7,
   "id": "d02ad01b",
   "metadata": {},
   "outputs": [
    {
     "name": "stdout",
     "output_type": "stream",
     "text": [
      "GO! BOT IS RUNNING\n"
     ]
    }
   ],
   "source": [
    "print(\"GO! BOT IS RUNNING\")"
   ]
  },
  {
   "cell_type": "code",
   "execution_count": null,
   "id": "7bf8e7b0",
   "metadata": {},
   "outputs": [
    {
     "name": "stdout",
     "output_type": "stream",
     "text": [
      "hi\n",
      "1/1 [==============================] - 0s 126ms/step\n",
      "what can i do for you?\n",
      "i am suffering from fever\n",
      "1/1 [==============================] - 0s 19ms/step\n",
      "medicines you can consume : acetaminophen ,ibuprofen,aspirin,Crocin Cold & Flu Max, prevention that you must follow :Wash your hands,Cover your mouth when you cough and your nose when you sneeze,Clean frequently used surfaces,Avoid sharing cups, glasses, and eating utensils with other people.,SUGGESTED FOODS ARE:Garlic,Vitamin Câ€“containing fruits,Leafy greens,Broccoli,Oatmeal,Spices,Chicken Soup\n",
      "thanks\n",
      "1/1 [==============================] - 0s 14ms/step\n",
      "what can i do for you?\n",
      "aids\n",
      "1/1 [==============================] - 0s 19ms/step\n",
      "hello\n",
      "hello\n",
      "1/1 [==============================] - 0s 31ms/step\n",
      "what can i do for you?\n",
      "headache\n",
      "1/1 [==============================] - 0s 31ms/step\n",
      "It seems that you are suffering from common cold\n",
      "yes\n",
      "1/1 [==============================] - 0s 16ms/step\n",
      "what can i do for you?\n",
      "stomach pain\n",
      "1/1 [==============================] - 0s 26ms/step\n",
      "what can i do for you?\n",
      "medicine\n",
      "1/1 [==============================] - 0s 31ms/step\n",
      "what can i do for you?\n",
      "running nose\n",
      "1/1 [==============================] - 0s 20ms/step\n",
      "It seems that you are suffering from common cold\n"
     ]
    }
   ],
   "source": [
    "while True:\n",
    "  message=input(\"\")\n",
    "  ints=predict_class(message)\n",
    "  res=get_response(ints,intents)\n",
    "  print(res)"
   ]
  },
  {
   "cell_type": "code",
   "execution_count": null,
   "id": "9c20c364",
   "metadata": {},
   "outputs": [],
   "source": []
  }
 ],
 "metadata": {
  "kernelspec": {
   "display_name": "Python 3 (ipykernel)",
   "language": "python",
   "name": "python3"
  },
  "language_info": {
   "codemirror_mode": {
    "name": "ipython",
    "version": 3
   },
   "file_extension": ".py",
   "mimetype": "text/x-python",
   "name": "python",
   "nbconvert_exporter": "python",
   "pygments_lexer": "ipython3",
   "version": "3.9.12"
  }
 },
 "nbformat": 4,
 "nbformat_minor": 5
}
